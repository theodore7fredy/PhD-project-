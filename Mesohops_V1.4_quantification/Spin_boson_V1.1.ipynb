{
 "cells": [
  {
   "cell_type": "code",
   "execution_count": 1,
   "id": "386cfe0d-b816-41c5-bce6-d93e9436bfb4",
   "metadata": {},
   "outputs": [
    {
     "name": "stderr",
     "output_type": "stream",
     "text": [
      "/home/fredy/miniconda3/envs/mesohops/lib/python3.8/site-packages/scipy/__init__.py:143: UserWarning: A NumPy version >=1.19.5 and <1.27.0 is required for this version of SciPy (detected version 1.19.0)\n",
      "  warnings.warn(f\"A NumPy version >={np_minversion} and <{np_maxversion}\"\n"
     ]
    }
   ],
   "source": [
    "import os  \n",
    "import numpy as np\n",
    "import matplotlib.pyplot as plt\n",
    "import scipy as sp  \n",
    "from scipy import sparse \n",
    "from mesohops.dynamics.hops_trajectory import HopsTrajectory as HOPS  \n",
    "from mesohops.dynamics.eom_hops_ksuper import _permute_aux_by_matrix  \n",
    "from mesohops.dynamics.bath_corr_functions import bcf_exp, bcf_convert_sdl_to_exp  "
   ]
  },
  {
   "cell_type": "code",
   "execution_count": 2,
   "id": "01a4c754-87c7-4e1e-b4bb-4b1e458cbc87",
   "metadata": {},
   "outputs": [],
   "source": [
    "noise_param = {  \n",
    "\n",
    "    \"SEED\": 0,  # This sets the seed for the noise\n",
    "    \"MODEL\": \"FFT_FILTER\", # This sets the noise model to be used\n",
    "    \"TLEN\": 500.0, # Units: fs (the total time length of the noise trajectory) \n",
    "    \"TAU\": 1.0, # Units: fs  (the time-step resolution of the noise trajectory\n",
    "}  \n",
    "\n",
    "nsite = 2  # The number of pigments in the linear chain we are simulating\n",
    "e_lambda = 20.0  # The reorganization energy in wavenumbers\n",
    "gamma = 20.0  # The reorganization timescale in wavenumbers\n",
    "temp = 295.0  # The temperature in Kelvin\n",
    "(g_0, w_0) = bcf_convert_sdl_to_exp(e_lambda, gamma, 0.0, temp)  \n",
    "\n",
    "# Define the L operators |n><n| for each site n  \n",
    "loperator = np.zeros([2, 2, 2], dtype=np.float64)  \n",
    "gw_sysbath = []  \n",
    "lop_list = []  \n",
    "for i in range(nsite):  \n",
    "    loperator[i, i, i] = 1.0  \n",
    "    # Here we apply a short time correction to the correlation function\n",
    "    # by implementing 2 modes for each pigment: \n",
    "    # A Markovian mode and a non-Markovian mode. The Markovian mode is used to cancel the \n",
    "    # imaginary part of the non_markovian mode and quickly disappears after short time\n",
    "    gw_sysbath.append([g_0, w_0])  \n",
    "    lop_list.append(sp.sparse.coo_matrix(loperator[i]))  \n",
    "    gw_sysbath.append([-1j * np.imag(g_0), 500.0])  \n",
    "    lop_list.append(loperator[i])  "
   ]
  },
  {
   "cell_type": "code",
   "execution_count": 3,
   "id": "aba3e1c6-3f96-41d4-b416-693018a908a3",
   "metadata": {},
   "outputs": [],
   "source": [
    "# Hamiltonian in wavenumbers\n",
    "hs = np.zeros([nsite, nsite])  \n",
    "# Manually set the couplings between pigments. We assume each pigment is isergonic:\n",
    "# that is, the diagonals of the hamiltonian are all 0.\n",
    "hs[0, 1] = 15  \n",
    "hs[1, 0] = 15  \n",
    " \n",
    "\n",
    "# System parameters\n",
    "sys_param = {  \n",
    "    \"HAMILTONIAN\": np.array(hs, dtype=np.complex128),  # the Hamiltonian we constructed\n",
    "    \"GW_SYSBATH\": gw_sysbath,  # defines exponential decompositoin of correlation function\n",
    "    \"L_HIER\": lop_list,  # list of L operators\n",
    "    \"L_NOISE1\": lop_list,  # list of noise params associated with noise1\n",
    "    \"ALPHA_NOISE1\": bcf_exp,  # function that calculates correlation function\n",
    "    \"PARAM_NOISE1\": gw_sysbath,  # list of noise pararms defining decomposition of noise1\n",
    "}  \n"
   ]
  },
  {
   "cell_type": "code",
   "execution_count": 4,
   "id": "fcc477b7-0b0b-4d67-89e5-a672d3a18384",
   "metadata": {},
   "outputs": [
    {
     "name": "stdout",
     "output_type": "stream",
     "text": [
      "Noise Model initialized with SEED =  0\n",
      "0 th seed is:  209652396\n",
      "1 th seed is:  398764591\n",
      "Integration from  0  to  200.0\n",
      "22.418381214141846\n"
     ]
    }
   ],
   "source": [
    "# EOM parameters \n",
    "eom_param = {\"EQUATION_OF_MOTION\": \"NORMALIZED NONLINEAR\"} # we generally pick normalized nonlinear \n",
    "# as it has better convergence properties than the linear eom\n",
    "\n",
    "# Integration parameters \n",
    "integrator_param = {\"INTEGRATOR\": \"RUNGE_KUTTA\"}  # We use a Runge-Kutta method for our integrator \n",
    "\n",
    "# Initial wave function (in the state basis, we fully populate site 3 and no others)\n",
    "import time\n",
    "start = time.time()\n",
    "\n",
    "psi_0 = np.array([0.0] * nsite)#, dtype=np.complex)  \n",
    "psi_0[0] = 1.0\n",
    "# To avoid rounding errors, we normalize the wave function\n",
    "psi_0 = psi_0 / np.linalg.norm(psi_0)  \n",
    "t_max = 200.0  # The length of the time axis in fs\n",
    "t_step = 4.0  # The time resolution in fs\n",
    "delta = 1e-3 # The bound on derivative error\n",
    "\n",
    "hops = HOPS(  \n",
    "    sys_param,  \n",
    "  noise_param=noise_param, \n",
    "  hierarchy_param={\"MAXHIER\": 10},  \n",
    "  eom_param=eom_param,  \n",
    ")  \n",
    "\n",
    "# Make the HopsTrajectory adaptive, initialize it with the wave function and propagate it to t_max.\n",
    "hops.make_adaptive(delta/np.sqrt(2), delta/np.sqrt(2))\n",
    "hops.initialize(psi_0)\n",
    "hops.propagate(t_max, t_step)\n",
    "\n",
    "end = time.time()\n",
    "result = end - start\n",
    "print(result)"
   ]
  },
  {
   "cell_type": "code",
   "execution_count": 5,
   "id": "39506c6e-da20-460b-877b-5fd976aff31e",
   "metadata": {},
   "outputs": [
    {
     "data": {
      "image/png": "[encoded data removed]",
      "text/plain": [
       "<Figure size 640x480 with 1 Axes>"
      ]
     },
     "metadata": {},
     "output_type": "display_data"
    }
   ],
   "source": [
    "import numpy as np\n",
    "import matplotlib.pyplot as plt\n",
    "# gather population and t_axis\n",
    "pop = np.abs(hops.psi_traj)**2\n",
    "t_axis = np.arange(0,204,4)\n",
    "# plot the data\n",
    "plt.plot(t_axis,pop)\n",
    "plt.show()"
   ]
  },
  {
   "cell_type": "code",
   "execution_count": 6,
   "id": "5a9bc1fb-e4cc-4237-9366-3ad85f48b246",
   "metadata": {},
   "outputs": [],
   "source": [
    "import pandas as pd\n",
    "\n",
    "# Supposons que pop est un ndarray 2D (n_lignes, 2 colonnes)\n",
    "# et t_axis une liste de même longueur que le nombre de lignes\n",
    "\n",
    "# Exemple de données\n",
    "# pop = np.array([[0.1, 0.2], [0.3, 0.4], [0.5, 0.6]])  # shape (3, 2)\n",
    "# t_axis = [0, 1, 2]  # longueur 3\n",
    "\n",
    "df = pd.DataFrame({\n",
    "    'time': t_axis,\n",
    "    'pop_col1': pop[:, 0],  # Première colonne de pop\n",
    "    'pop_col2': pop[:, 1]   # Deuxième colonne de pop\n",
    "})\n",
    "\n",
    "\n",
    "# Sauvegarde\n",
    "df.to_csv('data.csv', index=False)"
   ]
  },
  {
   "cell_type": "code",
   "execution_count": null,
   "id": "9176f347-39e6-4885-bc2b-63454823abae",
   "metadata": {},
   "outputs": [],
   "source": []
  },
  {
   "cell_type": "code",
   "execution_count": 9,
   "id": "5b736b3d-45b8-4bd7-8f7c-579db9fdaaa2",
   "metadata": {},
   "outputs": [
    {
     "data": {
      "text/plain": [
       "63"
      ]
     },
     "execution_count": 9,
     "metadata": {},
     "output_type": "execute_result"
    }
   ],
   "source": [
    "11+27+13+12"
   ]
  },
  {
   "cell_type": "code",
   "execution_count": null,
   "id": "74e44554-8e17-4a40-9776-71af65ef9dce",
   "metadata": {},
   "outputs": [],
   "source": []
  }
 ],
 "metadata": {
  "kernelspec": {
   "display_name": "Python 3 (ipykernel)",
   "language": "python",
   "name": "python3"
  },
  "language_info": {
   "codemirror_mode": {
    "name": "ipython",
    "version": 3
   },
   "file_extension": ".py",
   "mimetype": "text/x-python",
   "name": "python",
   "nbconvert_exporter": "python",
   "pygments_lexer": "ipython3",
   "version": "3.8.20"
  }
 },
 "nbformat": 4,
 "nbformat_minor": 5
}

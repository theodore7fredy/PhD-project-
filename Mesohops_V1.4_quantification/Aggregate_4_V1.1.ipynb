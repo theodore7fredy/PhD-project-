{
 "cells": [
  {
   "cell_type": "code",
   "execution_count": 1,
   "id": "7516dbf8-82c4-4c3a-a34b-6ece0fb49daf",
   "metadata": {},
   "outputs": [
    {
     "name": "stderr",
     "output_type": "stream",
     "text": [
      "/home/fredy/miniconda3/envs/mesohops/lib/python3.8/site-packages/scipy/__init__.py:143: UserWarning: A NumPy version >=1.19.5 and <1.27.0 is required for this version of SciPy (detected version 1.19.0)\n",
      "  warnings.warn(f\"A NumPy version >={np_minversion} and <{np_maxversion}\"\n"
     ]
    }
   ],
   "source": [
    "# We will be simulating a linear chain of pigments, with each pigment approximated as a two-level\n",
    "# system. The chain is 4 pigments long, and the excitation begins on the 3rd pigment.\n",
    "\n",
    "# Import statements\n",
    "import os  \n",
    "import numpy as np  \n",
    "import scipy as sp  \n",
    "from scipy import sparse \n",
    "from mesohops.dynamics.hops_trajectory import HopsTrajectory as HOPS  \n",
    "from mesohops.dynamics.eom_hops_ksuper import _permute_aux_by_matrix  \n",
    "from mesohops.dynamics.bath_corr_functions import bcf_exp, bcf_convert_sdl_to_exp  \n",
    "\n",
    "# Noise parameters\n",
    "\n"
   ]
  },
  {
   "cell_type": "code",
   "execution_count": 2,
   "id": "664129e1-23a7-4481-a8e4-9e47284c33ee",
   "metadata": {},
   "outputs": [],
   "source": [
    "noise_param = {  \n",
    "\n",
    "    \"SEED\": 0,  # This sets the seed for the noise\n",
    "    \"MODEL\": \"FFT_FILTER\", # This sets the noise model to be used\n",
    "    \"TLEN\": 500.0, # Units: fs (the total time length of the noise trajectory) \n",
    "    \"TAU\": 1.0, # Units: fs  (the time-step resolution of the noise trajectory\n",
    "}  \n",
    "\n",
    "nsite = 4  # The number of pigments in the linear chain we are simulating\n",
    "e_lambda = 50.0  # The reorganization energy in wavenumbers\n",
    "gamma = 50.0  # The reorganization timescale in wavenumbers\n",
    "temp = 295.0  # The temperature in Kelvin\n",
    "(g_0, w_0) = bcf_convert_sdl_to_exp(e_lambda, gamma, 0.0, temp)  \n",
    "\n",
    "# Define the L operators |n><n| for each site n  \n",
    "loperator = np.zeros([4, 4, 4], dtype=np.float64)  \n",
    "gw_sysbath = []  \n",
    "lop_list = []  \n",
    "for i in range(nsite):  \n",
    "    loperator[i, i, i] = 1.0  \n",
    "    # Here we apply a short time correction to the correlation function\n",
    "    # by implementing 2 modes for each pigment: \n",
    "    # A Markovian mode and a non-Markovian mode. The Markovian mode is used to cancel the \n",
    "    # imaginary part of the non_markovian mode and quickly disappears after short time\n",
    "    gw_sysbath.append([g_0, w_0])  \n",
    "    lop_list.append(sp.sparse.coo_matrix(loperator[i]))  \n",
    "    gw_sysbath.append([-1j * np.imag(g_0), 500.0])  \n",
    "    lop_list.append(loperator[i])  "
   ]
  },
  {
   "cell_type": "code",
   "execution_count": 3,
   "id": "9c30f864-e79d-4102-951a-0661300f92e3",
   "metadata": {},
   "outputs": [],
   "source": [
    "# Hamiltonian in wavenumbers\n",
    "hs = np.zeros([nsite, nsite])  \n",
    "# Manually set the couplings between pigments. We assume each pigment is isergonic:\n",
    "# that is, the diagonals of the hamiltonian are all 0.\n",
    "hs[0, 1] = 40  \n",
    "hs[1, 0] = 40  \n",
    "hs[1, 2] = 10  \n",
    "hs[2, 1] = 10  \n",
    "hs[2, 3] = 40  \n",
    "hs[3, 2] = 40  \n",
    "\n",
    "# System parameters\n",
    "sys_param = {  \n",
    "    \"HAMILTONIAN\": np.array(hs, dtype=np.complex128),  # the Hamiltonian we constructed\n",
    "    \"GW_SYSBATH\": gw_sysbath,  # defines exponential decompositoin of correlation function\n",
    "    \"L_HIER\": lop_list,  # list of L operators\n",
    "    \"L_NOISE1\": lop_list,  # list of noise params associated with noise1\n",
    "    \"ALPHA_NOISE1\": bcf_exp,  # function that calculates correlation function\n",
    "    \"PARAM_NOISE1\": gw_sysbath,  # list of noise pararms defining decomposition of noise1\n",
    "}  "
   ]
  },
  {
   "cell_type": "code",
   "execution_count": 9,
   "id": "883b01cd-be67-4b3f-b402-0bd6f505da08",
   "metadata": {},
   "outputs": [
    {
     "name": "stdout",
     "output_type": "stream",
     "text": [
      "Noise Model initialized with SEED =  0\n",
      "0 th seed is:  209652396\n",
      "1 th seed is:  398764591\n",
      "2 th seed is:  924231285\n",
      "3 th seed is:  404868288\n",
      "Integration from  0  to  200.0\n",
      "7.526254177093506\n"
     ]
    }
   ],
   "source": [
    "\n",
    "# EOM parameters \n",
    "eom_param = {\"EQUATION_OF_MOTION\": \"NORMALIZED NONLINEAR\"} # we generally pick normalized nonlinear \n",
    "# as it has better convergence properties than the linear eom\n",
    "\n",
    "# Integration parameters \n",
    "integrator_param = {\"INTEGRATOR\": \"RUNGE_KUTTA\"}  # We use a Runge-Kutta method for our integrator \n",
    "import time\n",
    "start = time.time()\n",
    "# Initial wave function (in the state basis, we fully populate site 3 and no others)\n",
    "psi_0 = np.array([0.0] * nsite, dtype=np.complex)  \n",
    "psi_0[2] = 1.0\n",
    "# To avoid rounding errors, we normalize the wave function\n",
    "psi_0 = psi_0 / np.linalg.norm(psi_0)  \n",
    "t_max = 200.0  # The length of the time axis in fs\n",
    "t_step = 4.0  # The time resolution in fs\n",
    "delta = 1e-3 # The bound on derivative error\n",
    "\n",
    "hops = HOPS(  \n",
    "    sys_param,  \n",
    "  noise_param=noise_param, \n",
    "  hierarchy_param={\"MAXHIER\": 4},  \n",
    "  eom_param=eom_param,  \n",
    ")  \n",
    "\n",
    "hops.make_adaptive(delta/np.sqrt(2), delta/np.sqrt(2))\n",
    "hops.initialize(psi_0)\n",
    "hops.propagate(t_max, t_step)\n",
    "end = time.time()\n",
    "print(end-start)"
   ]
  },
  {
   "cell_type": "code",
   "execution_count": 5,
   "id": "796f62aa-9ffd-4d4f-8c19-f87b1fed0c97",
   "metadata": {},
   "outputs": [
    {
     "data": {
      "image/png": "[encoded data removed]",
      "text/plain": [
       "<Figure size 640x480 with 1 Axes>"
      ]
     },
     "metadata": {},
     "output_type": "display_data"
    }
   ],
   "source": [
    "import numpy as np\n",
    "import matplotlib.pyplot as plt\n",
    "# gather population and t_axis\n",
    "pop = np.abs(hops.psi_traj)**2\n",
    "t_axis = np.arange(0,204,4)\n",
    "# plot the data\n",
    "plt.plot(t_axis,pop)\n",
    "plt.savefig('meso_hops_1.1.png')\n",
    "plt.show()"
   ]
  },
  {
   "cell_type": "code",
   "execution_count": 6,
   "id": "7a85f95e-076c-46c8-87c8-06a41ac79ffa",
   "metadata": {},
   "outputs": [],
   "source": [
    "import pandas as pd\n",
    "\n",
    "# Supposons que pop est un ndarray 2D (n_lignes, 2 colonnes)\n",
    "# et t_axis une liste de même longueur que le nombre de lignes\n",
    "\n",
    "# Exemple de données\n",
    "# pop = np.array([[0.1, 0.2], [0.3, 0.4], [0.5, 0.6]])  # shape (3, 2)\n",
    "# t_axis = [0, 1, 2]  # longueur 3\n",
    "\n",
    "df = pd.DataFrame({\n",
    "    'time': t_axis,\n",
    "    'pop_1': pop[:, 0],  # Première colonne de pop\n",
    "    'pop_2': pop[:, 1],   # Deuxième colonne de pop\n",
    "    'pop_3': pop[:, 2],  # Première colonne de pop\n",
    "    'pop_4': pop[:, 3]   # Deuxième colonne de pop\n",
    "    \n",
    "})\n",
    "\n",
    "\n",
    "# Sauvegarde\n",
    "df.to_csv('data1.csv', index=False)"
   ]
  },
  {
   "cell_type": "code",
   "execution_count": null,
   "id": "63dfde30-6887-42be-8939-47edf21d1595",
   "metadata": {},
   "outputs": [],
   "source": []
  },
  {
   "cell_type": "code",
   "execution_count": null,
   "id": "43f7dea0-f483-4d67-8cc7-93466b6e9371",
   "metadata": {},
   "outputs": [],
   "source": []
  }
 ],
 "metadata": {
  "kernelspec": {
   "display_name": "Python 3 (ipykernel)",
   "language": "python",
   "name": "python3"
  },
  "language_info": {
   "codemirror_mode": {
    "name": "ipython",
    "version": 3
   },
   "file_extension": ".py",
   "mimetype": "text/x-python",
   "name": "python",
   "nbconvert_exporter": "python",
   "pygments_lexer": "ipython3",
   "version": "3.8.20"
  }
 },
 "nbformat": 4,
 "nbformat_minor": 5
}
